{
 "cells": [
  {
   "cell_type": "markdown",
   "metadata": {},
   "source": [
    "# PDLS_EXT3_Python_Touch - Other Examples\n",
    "\n",
    "Launch the examples with Python or open the files to read the code.\n",
    "\n",
    "For example, `Common_Fonts.py` lists the fonts."
   ]
  },
  {
   "cell_type": "code",
   "execution_count": null,
   "metadata": {
    "vscode": {
     "languageId": "shellscript"
    }
   },
   "outputs": [],
   "source": [
    "%%bash \n",
    "python Common_Fonts.py"
   ]
  },
  {
   "cell_type": "markdown",
   "metadata": {},
   "source": [
    "There is even a tic-tac-toe game!"
   ]
  },
  {
   "cell_type": "code",
   "execution_count": null,
   "metadata": {},
   "outputs": [],
   "source": [
    "%%bash\n",
    "python Basic_Touch_TicTacToe.py"
   ]
  },
  {
   "cell_type": "markdown",
   "metadata": {},
   "source": [
    "## List of examples\n",
    "\n",
    "Common examples\n",
    "\n",
    "+ `Common_Colours.py`\n",
    "+ `Common_Fonts.py`\n",
    "+ `Common_Forms.py`\n",
    "+ `Common_Orientation.py`\n",
    "+ `Common_Text.py`\n",
    "+ `Common_WhoAmI.py`\n",
    "\n",
    "Fast update example\n",
    "\n",
    "+ `Example_Fast_Line.py`\n",
    "\n",
    "Touch examples\n",
    "\n",
    "+ `Basic_Touch_Draw.py`\n",
    "+ `Basic_Touch_GUI.py`\n",
    "+ `Basic_Touch_TicTacToe.py`\n",
    "\n",
    "## Notes\n",
    "\n",
    "1. Explicit version of the first line `from PDLS_EXT3_Python_Touch import *` could be `from PDLS_EXT3_Python_Touch import Colour, Font, Screen, Update, time`.\n",
    "\n",
    "1. Similarly for the GUI example, `from hV_GUI import *` could be replaced by `from hV_GUI import Check, State, GUI, Text, Button`.\n"
   ]
  }
 ],
 "metadata": {
  "kernelspec": {
   "display_name": "Python 3 (ipykernel)",
   "language": "python",
   "name": "python3"
  },
  "language_info": {
   "codemirror_mode": {
    "name": "ipython",
    "version": 3
   },
   "file_extension": ".py",
   "mimetype": "text/x-python",
   "name": "python",
   "nbconvert_exporter": "python",
   "pygments_lexer": "ipython3",
   "version": "3.9.2"
  },
  "vscode": {
   "interpreter": {
    "hash": "e7370f93d1d0cde622a1f8e1c04877d8463912d04d973331ad4851f04de6915a"
   }
  }
 },
 "nbformat": 4,
 "nbformat_minor": 2
}
